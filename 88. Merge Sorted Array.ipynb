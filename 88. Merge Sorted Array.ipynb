{
 "cells": [
  {
   "cell_type": "code",
   "execution_count": null,
   "id": "f98d51eb",
   "metadata": {},
   "outputs": [],
   "source": []
  },
  {
   "cell_type": "code",
   "execution_count": 18,
   "id": "7734015e",
   "metadata": {},
   "outputs": [],
   "source": [
    "Input: nums1 = [1,2,3,0,0,0], m = 3, nums2 = [2,5,6], n = 3"
   ]
  },
  {
   "cell_type": "code",
   "execution_count": null,
   "id": "edddf7ec",
   "metadata": {},
   "outputs": [],
   "source": [
    "Input: nums1 = [1], m = 1, nums2 = [], n = 0"
   ]
  },
  {
   "cell_type": "code",
   "execution_count": null,
   "id": "a951d3fe",
   "metadata": {},
   "outputs": [],
   "source": [
    "Input: nums1 = [0], m = 0, nums2 = [1], n = 1"
   ]
  },
  {
   "cell_type": "code",
   "execution_count": 19,
   "id": "d8832b78",
   "metadata": {},
   "outputs": [
    {
     "name": "stdout",
     "output_type": "stream",
     "text": [
      "[1, 2, 2, 3, 5, 6]\n"
     ]
    }
   ],
   "source": [
    "m = 3\n",
    "n = 3\n",
    "for i in range(len(nums2)):\n",
    "\n",
    "    nums1[m+i] = nums2[i]\n",
    "\n",
    "nums1.sort()\n",
    "print(nums1)\n"
   ]
  },
  {
   "cell_type": "code",
   "execution_count": null,
   "id": "7aac12ff",
   "metadata": {},
   "outputs": [],
   "source": [
    "l = m+n\n",
    "\n",
    "while m >0 and n >0:\n",
    "    if nums1[m-1] >nums2[n-1]:\n",
    "        nums1[l-1] = nums1[m-1]\n",
    "        m -=1\n",
    "    else :\n",
    "        nums1[l-1] = nums2[n-1]\n",
    "        n -=1\n",
    "    l -=1\n",
    "while n >0:\n",
    "    nums1[l-1] = nums2[n-1]\n",
    "    n -=1\n",
    "    l -=1"
   ]
  },
  {
   "cell_type": "code",
   "execution_count": null,
   "id": "c9531844",
   "metadata": {},
   "outputs": [],
   "source": []
  },
  {
   "cell_type": "code",
   "execution_count": null,
   "id": "8df37cd0",
   "metadata": {},
   "outputs": [],
   "source": []
  }
 ],
 "metadata": {
  "kernelspec": {
   "display_name": "Python 3 (ipykernel)",
   "language": "python",
   "name": "python3"
  },
  "language_info": {
   "codemirror_mode": {
    "name": "ipython",
    "version": 3
   },
   "file_extension": ".py",
   "mimetype": "text/x-python",
   "name": "python",
   "nbconvert_exporter": "python",
   "pygments_lexer": "ipython3",
   "version": "3.11.3"
  }
 },
 "nbformat": 4,
 "nbformat_minor": 5
}
